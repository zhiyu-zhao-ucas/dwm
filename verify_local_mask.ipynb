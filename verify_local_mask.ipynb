{
 "cells": [
  {
   "cell_type": "markdown",
   "metadata": {},
   "source": [
    "# 验证 Inference 模型预测的 Local Mask\n",
    "\n",
    "本notebook用于加载保存的inference模型，创建环境，并验证模型预测的local mask是否正确。"
   ]
  },
  {
   "cell_type": "code",
   "execution_count": 1,
   "metadata": {},
   "outputs": [],
   "source": [
    "import os\n",
    "import sys\n",
    "import numpy as np\n",
    "import torch\n",
    "import pandas as pd\n",
    "import matplotlib.pyplot as plt\n",
    "import seaborn as sns\n",
    "\n",
    "# 设置显示格式\n",
    "np.set_printoptions(precision=3, suppress=True)\n",
    "torch.set_printoptions(precision=3, sci_mode=False)\n",
    "\n",
    "# 确保当前目录在path中\n",
    "if not os.getcwd() in sys.path:\n",
    "    sys.path.append(os.getcwd())"
   ]
  },
  {
   "cell_type": "code",
   "execution_count": 2,
   "metadata": {},
   "outputs": [],
   "source": [
    "# 导入必要的模块\n",
    "from fcdl.env.chemical_env import Chemical\n",
    "from fcdl.model.encoder import make_encoder\n",
    "from fcdl.model.inference_ours_masking import InferenceOursMask\n",
    "from fcdl.model.inference_dwm import InferenceDWM\n",
    "from fcdl.utils.utils import TrainingParams, get_env, update_obs_act_spec\n",
    "from fcdl.utils.replay_buffer import ReplayBuffer"
   ]
  },
  {
   "cell_type": "markdown",
   "metadata": {},
   "source": [
    "## 1. 加载保存的参数和模型"
   ]
  },
  {
   "cell_type": "code",
   "execution_count": 3,
   "metadata": {},
   "outputs": [],
   "source": [
    "# 设置模型路径\n",
    "model_path = \"data1/iwhwang/causal_rl/Chemical/9z2xtmg8/trained_models/inference_15k\"\n",
    "params_path = \"data1/iwhwang/causal_rl/Chemical/r6aueau2/params\"\n",
    "env_params_path = \"data1/iwhwang/causal_rl/Chemical/r6aueau2/params\"\n",
    "\n",
    "# 检查文件是否存在\n",
    "assert os.path.exists(model_path), f\"模型文件不存在: {model_path}\"\n",
    "assert os.path.exists(params_path), f\"参数文件不存在: {params_path}\"\n",
    "assert os.path.exists(env_params_path), f\"环境参数文件不存在: {env_params_path}\""
   ]
  },
  {
   "cell_type": "code",
   "execution_count": 4,
   "metadata": {},
   "outputs": [
    {
     "name": "stdout",
     "output_type": "stream",
     "text": [
      "已加载参数和环境设置\n"
     ]
    }
   ],
   "source": [
    "# 加载参数\n",
    "params_dict = torch.load(params_path)\n",
    "params = TrainingParams(training_params_fname=\"policy_params.json\", train=False)\n",
    "\n",
    "# 将加载的参数字典复制到params对象\n",
    "for key, value in params_dict.items():\n",
    "    setattr(params, key, value)\n",
    "\n",
    "# 加载环境参数\n",
    "env_params = torch.load(env_params_path)\n",
    "print(f\"已加载参数和环境设置\")"
   ]
  },
  {
   "cell_type": "code",
   "execution_count": 5,
   "metadata": {},
   "outputs": [
    {
     "name": "stdout",
     "output_type": "stream",
     "text": [
      "使用设备: cuda\n"
     ]
    }
   ],
   "source": [
    "# 设置设备\n",
    "device = torch.device(\"cuda\" if torch.cuda.is_available() else \"cpu\")\n",
    "params.device = device\n",
    "print(f\"使用设备: {device}\")"
   ]
  },
  {
   "cell_type": "markdown",
   "metadata": {},
   "source": [
    "## 2. 创建环境和推理模型"
   ]
  },
  {
   "cell_type": "code",
   "execution_count": 6,
   "metadata": {},
   "outputs": [
    {
     "name": "stdout",
     "output_type": "stream",
     "text": [
      "环境创建完成: Chemical\n"
     ]
    }
   ],
   "source": [
    "# 创建环境\n",
    "# 强制使用单个环境，不使用向量化环境\n",
    "params.env_params.num_env = 1  # 确保只使用一个环境\n",
    "env = get_env(params)\n",
    "print(f\"环境创建完成: {params.env_params.env_name}\")\n",
    "\n",
    "# 更新观测和动作空间\n",
    "update_obs_act_spec(env, params)"
   ]
  },
  {
   "cell_type": "code",
   "execution_count": 7,
   "metadata": {},
   "outputs": [
    {
     "name": "stderr",
     "output_type": "stream",
     "text": [
      "\u001b[32m2025-03-13 12:30:42.090\u001b[0m | \u001b[1mINFO    \u001b[0m | \u001b[36mfcdl.model.inference_dwm\u001b[0m:\u001b[36m__init__\u001b[0m:\u001b[36m11\u001b[0m - \u001b[1mInferenceDWM\u001b[0m\n",
      "\u001b[32m2025-03-13 12:30:42.092\u001b[0m | \u001b[1mINFO    \u001b[0m | \u001b[36mfcdl.model.inference_ours_masking\u001b[0m:\u001b[36m__init__\u001b[0m:\u001b[36m10\u001b[0m - \u001b[1mInferenceOursMask\u001b[0m\n",
      "\u001b[32m2025-03-13 12:30:42.092\u001b[0m | \u001b[1mINFO    \u001b[0m | \u001b[36mfcdl.model.inference_ours_base\u001b[0m:\u001b[36m__init__\u001b[0m:\u001b[36m17\u001b[0m - \u001b[1mInferenceOursBase\u001b[0m\n",
      "\u001b[32m2025-03-13 12:30:42.093\u001b[0m | \u001b[1mINFO    \u001b[0m | \u001b[36mfcdl.model.inference_ours_base\u001b[0m:\u001b[36minit_model\u001b[0m:\u001b[36m44\u001b[0m - \u001b[1mset up local causal model\u001b[0m\n",
      "\u001b[32m2025-03-13 12:30:42.098\u001b[0m | \u001b[1mINFO    \u001b[0m | \u001b[36mfcdl.model.gumbel\u001b[0m:\u001b[36m__init__\u001b[0m:\u001b[36m153\u001b[0m - \u001b[1mSet up EMB\u001b[0m\n"
     ]
    },
    {
     "name": "stdout",
     "output_type": "stream",
     "text": [
      "inference loaded data1/iwhwang/causal_rl/Chemical/9z2xtmg8/trained_models/inference_15k\n",
      "推理模型加载完成\n"
     ]
    }
   ],
   "source": [
    "# 创建编码器和推理模型\n",
    "encoder = make_encoder(params)\n",
    "inference = InferenceDWM(encoder, params)\n",
    "\n",
    "# 加载保存的模型\n",
    "inference.load(model_path, device)\n",
    "inference.eval()\n",
    "print(f\"推理模型加载完成\")"
   ]
  },
  {
   "cell_type": "markdown",
   "metadata": {},
   "source": [
    "## 3. 获取样本数据进行预测"
   ]
  },
  {
   "cell_type": "code",
   "execution_count": 16,
   "metadata": {},
   "outputs": [
    {
     "name": "stdout",
     "output_type": "stream",
     "text": [
      "收集了 100 个样本\n"
     ]
    }
   ],
   "source": [
    "# 创建缓冲区来收集样本\n",
    "buffer = ReplayBuffer(params)\n",
    "num_samples = 100\n",
    "current_samples = 0\n",
    "\n",
    "# 收集样本 - 使用单个环境\n",
    "obs = env.reset()\n",
    "done = False\n",
    "\n",
    "while current_samples < num_samples:\n",
    "    # 随机选择动作 - 单环境\n",
    "    action = np.random.randint(0, 5 * 10, size=1)  # 根据环境动作空间调整\n",
    "    next_obs, reward, done, info = env.step(action.item())\n",
    "    \n",
    "    # 添加到缓冲区 - 单环境\n",
    "    buffer.add(obs, action, reward, next_obs, done, info, True)\n",
    "    current_samples += 1\n",
    "    \n",
    "    # 如果回合结束，重置环境\n",
    "    if done:\n",
    "        obs = env.reset()\n",
    "    else:\n",
    "        obs = next_obs\n",
    "\n",
    "print(f\"收集了 {current_samples} 个样本\")"
   ]
  },
  {
   "cell_type": "code",
   "execution_count": 19,
   "metadata": {},
   "outputs": [
    {
     "data": {
      "text/plain": [
       "({'obj0': array([4]),\n",
       "  'obj1': array([1]),\n",
       "  'obj2': array([1]),\n",
       "  'obj3': array([1]),\n",
       "  'obj4': array([3]),\n",
       "  'obj5': array([2]),\n",
       "  'obj6': array([3]),\n",
       "  'obj7': array([2]),\n",
       "  'obj8': array([4]),\n",
       "  'obj9': array([4]),\n",
       "  'target_obj0': array([4]),\n",
       "  'target_obj1': array([1]),\n",
       "  'target_obj2': array([0]),\n",
       "  'target_obj3': array([2]),\n",
       "  'target_obj4': array([1]),\n",
       "  'target_obj5': array([2]),\n",
       "  'target_obj6': array([3]),\n",
       "  'target_obj7': array([4]),\n",
       "  'target_obj8': array([4]),\n",
       "  'target_obj9': array([4])},\n",
       " {'obj0': array([4.], dtype=float32),\n",
       "  'obj1': array([1.], dtype=float32),\n",
       "  'obj2': array([1.], dtype=float32),\n",
       "  'obj3': array([1.], dtype=float32),\n",
       "  'obj4': array([3.], dtype=float32),\n",
       "  'obj5': array([2.], dtype=float32),\n",
       "  'obj6': array([3.], dtype=float32),\n",
       "  'obj7': array([2.], dtype=float32),\n",
       "  'obj8': array([4.], dtype=float32),\n",
       "  'obj9': array([4.], dtype=float32),\n",
       "  'target_obj0': array([4.], dtype=float32),\n",
       "  'target_obj1': array([1.], dtype=float32),\n",
       "  'target_obj2': array([0.], dtype=float32),\n",
       "  'target_obj3': array([2.], dtype=float32),\n",
       "  'target_obj4': array([1.], dtype=float32),\n",
       "  'target_obj5': array([2.], dtype=float32),\n",
       "  'target_obj6': array([3.], dtype=float32),\n",
       "  'target_obj7': array([4.], dtype=float32),\n",
       "  'target_obj8': array([4.], dtype=float32),\n",
       "  'target_obj9': array([4.], dtype=float32)})"
      ]
     },
     "execution_count": 19,
     "metadata": {},
     "output_type": "execute_result"
    }
   ],
   "source": [
    "from fcdl.utils.utils import preprocess_obs, postprocess_obs\n",
    "obs, postprocess_obs(preprocess_obs(obs, params))"
   ]
  },
  {
   "cell_type": "code",
   "execution_count": 9,
   "metadata": {},
   "outputs": [],
   "source": [
    "# 从缓冲区获取样本\n",
    "batch_size = 13\n",
    "obs_batch, actions_batch, next_obses_batch, info_batch = buffer.sample_inference(batch_size, \"all\")"
   ]
  },
  {
   "cell_type": "code",
   "execution_count": 15,
   "metadata": {},
   "outputs": [
    {
     "data": {
      "text/plain": [
       "tensor([[3.],\n",
       "        [3.],\n",
       "        [2.],\n",
       "        [2.],\n",
       "        [4.],\n",
       "        [4.],\n",
       "        [4.],\n",
       "        [2.],\n",
       "        [4.],\n",
       "        [2.],\n",
       "        [3.],\n",
       "        [2.],\n",
       "        [4.]], device='cuda:0')"
      ]
     },
     "execution_count": 15,
     "metadata": {},
     "output_type": "execute_result"
    }
   ],
   "source": [
    "obs_batch['obj0']"
   ]
  },
  {
   "cell_type": "code",
   "execution_count": 10,
   "metadata": {},
   "outputs": [
    {
     "data": {
      "text/plain": [
       "torch.Size([13, 3, 10, 11])"
      ]
     },
     "execution_count": 10,
     "metadata": {},
     "output_type": "execute_result"
    }
   ],
   "source": [
    "info_batch['lcms'].shape"
   ]
  },
  {
   "cell_type": "code",
   "execution_count": 18,
   "metadata": {},
   "outputs": [
    {
     "data": {
      "text/plain": [
       "(tensor([[1., 0., 0., 0., 0., 0., 0., 0., 0., 0., 0.],\n",
       "         [0., 1., 0., 0., 0., 0., 0., 0., 0., 0., 0.],\n",
       "         [0., 0., 1., 0., 0., 0., 0., 0., 0., 0., 0.],\n",
       "         [0., 0., 0., 1., 0., 0., 0., 0., 0., 0., 0.],\n",
       "         [0., 0., 0., 0., 1., 0., 0., 0., 0., 0., 0.],\n",
       "         [0., 0., 0., 0., 0., 1., 0., 0., 0., 0., 0.],\n",
       "         [0., 0., 0., 0., 0., 0., 0., 0., 0., 0., 1.],\n",
       "         [1., 1., 1., 1., 1., 1., 1., 0., 0., 0., 1.],\n",
       "         [1., 1., 1., 1., 1., 1., 1., 1., 0., 0., 1.],\n",
       "         [1., 1., 1., 1., 1., 1., 1., 1., 1., 0., 1.]], device='cuda:0'),\n",
       " tensor([[6],\n",
       "         [4],\n",
       "         [9]], device='cuda:0'))"
      ]
     },
     "execution_count": 18,
     "metadata": {},
     "output_type": "execute_result"
    }
   ],
   "source": [
    "info_batch['lcms'][0][0], actions_batch[0] // 5"
   ]
  },
  {
   "cell_type": "markdown",
   "metadata": {},
   "source": [
    "## 4. 验证模型预测的 Local Mask"
   ]
  },
  {
   "cell_type": "code",
   "execution_count": 83,
   "metadata": {},
   "outputs": [],
   "source": [
    "# 使用推理模型进行预测\n",
    "with torch.no_grad():\n",
    "    # 获取模型预测的local mask\n",
    "    pred_results = inference.eval_local_mask(obs_batch, actions_batch)\n",
    "    \n",
    "    # # 提取预测的local mask\n",
    "    # if hasattr(inference, 'pred_local_mask'):\n",
    "    #     pred_local_mask = inference.pred_local_mask\n",
    "    #     print(\"获取到模型预测的local mask\")\n",
    "    # else:\n",
    "    #     # 如果模型没有直接暴露pred_local_mask，尝试从pred_results获取\n",
    "    #     if 'local_mask' in pred_results:\n",
    "    #         pred_local_mask = pred_results['local_mask']\n",
    "    #         print(\"从pred_results获取了local mask\")\n",
    "    #     else:\n",
    "    #         print(\"警告：无法获取local mask预测结果\")\n",
    "    #         pred_local_mask = None\n",
    "    \n",
    "    # # 提取真实的local mask（如果有）\n",
    "    # if 'gt_local_mask' in info_batch:\n",
    "    #     gt_local_mask = info_batch['gt_local_mask']\n",
    "    #     print(\"获取到真实的local mask\")\n",
    "    # else:\n",
    "    #     print(\"警告：数据中没有真实的local mask\")\n",
    "    #     gt_local_mask = None"
   ]
  },
  {
   "cell_type": "code",
   "execution_count": 84,
   "metadata": {},
   "outputs": [
    {
     "data": {
      "text/plain": [
       "(torch.Size([13, 10, 11]), torch.Size([13, 3, 10, 11]))"
      ]
     },
     "execution_count": 84,
     "metadata": {},
     "output_type": "execute_result"
    }
   ],
   "source": [
    "pred_results[0].squeeze().shape, info_batch['lcms'].shape"
   ]
  },
  {
   "cell_type": "code",
   "execution_count": 96,
   "metadata": {},
   "outputs": [
    {
     "data": {
      "text/plain": [
       "tensor(21.)"
      ]
     },
     "execution_count": 96,
     "metadata": {},
     "output_type": "execute_result"
    }
   ],
   "source": [
    "torch.abs(pred_results[0].squeeze().cpu()[2] - info_batch['lcms'][2, 0].cpu()).sum()"
   ]
  },
  {
   "cell_type": "code",
   "execution_count": 87,
   "metadata": {},
   "outputs": [
    {
     "data": {
      "text/plain": [
       "tensor(19.)"
      ]
     },
     "execution_count": 87,
     "metadata": {},
     "output_type": "execute_result"
    }
   ],
   "source": [
    "torch.tensor([[0., 0., 0., 0., 0., 0., 0., 0., 0., 0., 1.],\n",
    "        [0., 0., 0., 0., 0., 0., 0., 0., 0., 0., 1.],\n",
    "        [0., 0., 0., 0., 0., 0., 0., 0., 0., 0., 1.],\n",
    "        [0., 0., 0., 0., 0., 0., 0., 0., 0., 0., 1.],\n",
    "        [0., 0., 0., 1., 0., 0., 0., 0., 0., 0., 1.],\n",
    "        [0., 0., 0., 1., 0., 0., 0., 0., 0., 0., 1.],\n",
    "        [0., 0., 0., 0., 1., 0., 0., 0., 0., 0., 1.],\n",
    "        [0., 0., 0., 0., 0., 0., 1., 0., 0., 0., 1.],\n",
    "        [0., 0., 0., 0., 0., 0., 1., 1., 0., 0., 1.],\n",
    "        [0., 0., 0., 0., 0., 1., 1., 1., 0., 1., 0.]]).abs().sum()"
   ]
  },
  {
   "cell_type": "code",
   "execution_count": 72,
   "metadata": {},
   "outputs": [
    {
     "data": {
      "text/plain": [
       "tensor([[0., 0., 0., 0., 0., 0., 0., 0., 0., 0., 1.],\n",
       "        [0., 0., 0., 0., 0., 0., 0., 0., 0., 0., 1.],\n",
       "        [0., 0., 0., 0., 0., 0., 0., 0., 0., 0., 1.],\n",
       "        [0., 0., 0., 0., 0., 0., 0., 0., 0., 0., 1.],\n",
       "        [0., 0., 0., 1., 0., 0., 0., 0., 0., 0., 1.],\n",
       "        [0., 0., 0., 1., 0., 0., 0., 0., 0., 0., 1.],\n",
       "        [0., 0., 0., 0., 1., 0., 0., 0., 0., 0., 1.],\n",
       "        [0., 0., 0., 0., 0., 0., 1., 0., 0., 0., 1.],\n",
       "        [0., 0., 0., 0., 0., 0., 1., 1., 0., 0., 1.],\n",
       "        [0., 0., 0., 0., 0., 1., 1., 1., 0., 1., 0.]])"
      ]
     },
     "execution_count": 72,
     "metadata": {},
     "output_type": "execute_result"
    }
   ],
   "source": [
    "pred_results[0].squeeze().cpu()[0] - info_batch['lcms'][0, 0].cpu()"
   ]
  },
  {
   "cell_type": "code",
   "execution_count": null,
   "metadata": {},
   "outputs": [],
   "source": [
    "# 分析和可视化local mask（如果有）\n",
    "if pred_local_mask is not None:\n",
    "    print(\"预测的local mask形状:\", pred_local_mask.shape)\n",
    "    \n",
    "    # 显示第一个样本的预测mask\n",
    "    sample_idx = 0\n",
    "    plt.figure(figsize=(10, 8))\n",
    "    \n",
    "    # 获取矩阵的维度\n",
    "    mask_shape = pred_local_mask[sample_idx].shape\n",
    "    \n",
    "    # 创建热力图\n",
    "    sns.heatmap(pred_local_mask[sample_idx].cpu().numpy(), \n",
    "                annot=True, \n",
    "                fmt=\".2f\", \n",
    "                cmap=\"YlGnBu\",\n",
    "                xticklabels=[f\"Obj {i}\" for i in range(mask_shape[1])],\n",
    "                yticklabels=[f\"Obj {i}\" for i in range(mask_shape[0])])\n",
    "    \n",
    "    plt.title(\"预测的Local Mask (样本 #0)\")\n",
    "    plt.tight_layout()\n",
    "    plt.show()\n",
    "    \n",
    "    # 如果有真实的local mask，比较准确性\n",
    "    if gt_local_mask is not None:\n",
    "        # 计算预测与真实值的差异\n",
    "        accuracy = (pred_local_mask.round() == gt_local_mask).float().mean().item()\n",
    "        print(f\"Local mask准确率: {accuracy:.4f}\")\n",
    "        \n",
    "        # 显示真实的local mask\n",
    "        plt.figure(figsize=(10, 8))\n",
    "        sns.heatmap(gt_local_mask[sample_idx].cpu().numpy(), \n",
    "                    annot=True, \n",
    "                    fmt=\".0f\", \n",
    "                    cmap=\"YlGnBu\",\n",
    "                    xticklabels=[f\"Obj {j}\" for j in range(mask_shape[1])],\n",
    "                    yticklabels=[f\"Obj {j}\" for j in range(mask_shape[0])])\n",
    "        \n",
    "        plt.title(\"真实的Local Mask (样本 #0)\")\n",
    "        plt.tight_layout()\n",
    "        plt.show()\n",
    "else:\n",
    "    print(\"没有可用的local mask信息进行可视化\")"
   ]
  },
  {
   "cell_type": "markdown",
   "metadata": {},
   "source": [
    "## 5. 额外的分析：检查预测结果"
   ]
  },
  {
   "cell_type": "code",
   "execution_count": null,
   "metadata": {},
   "outputs": [],
   "source": [
    "# 查看所有的预测结果\n",
    "print(\"预测结果包含的键:\")\n",
    "for key in pred_results.keys():\n",
    "    print(f\"- {key}: {type(pred_results[key])}\")\n",
    "\n",
    "# 检查预测的状态转移\n",
    "if 'pred_next_state' in pred_results:\n",
    "    pred_next_state = pred_results['pred_next_state']\n",
    "    true_next_state = next_obses_batch\n",
    "    \n",
    "    # 计算预测误差\n",
    "    prediction_error = ((pred_next_state - true_next_state) ** 2).mean().item()\n",
    "    print(f\"\\n平均预测误差 (MSE): {prediction_error:.6f}\")\n",
    "    \n",
    "    # 显示第一个样本的预测与真实值比较\n",
    "    sample_idx = 0\n",
    "    \n",
    "    print(f\"\\n样本 #{sample_idx} 的预测值与真实值比较:\")\n",
    "    print(f\"预测下一状态:\\n{pred_next_state[sample_idx]}\")\n",
    "    print(f\"真实下一状态:\\n{true_next_state[sample_idx]}\")"
   ]
  },
  {
   "cell_type": "markdown",
   "metadata": {},
   "source": [
    "## 6. 探索更多样本的local mask预测"
   ]
  },
  {
   "cell_type": "code",
   "execution_count": null,
   "metadata": {},
   "outputs": [],
   "source": [
    "# 可视化多个样本的local mask预测\n",
    "if pred_local_mask is not None:\n",
    "    n_samples = min(4, batch_size)  # 显示最多4个样本\n",
    "    \n",
    "    fig, axes = plt.subplots(n_samples, 1, figsize=(10, n_samples * 6))\n",
    "    \n",
    "    for i in range(n_samples):\n",
    "        ax = axes[i] if n_samples > 1 else axes\n",
    "        \n",
    "        # 创建热力图\n",
    "        sns.heatmap(pred_local_mask[i].cpu().numpy(), \n",
    "                    annot=True, \n",
    "                    fmt=\".2f\", \n",
    "                    cmap=\"YlGnBu\",\n",
    "                    ax=ax,\n",
    "                    xticklabels=[f\"Obj {j}\" for j in range(mask_shape[1])],\n",
    "                    yticklabels=[f\"Obj {j}\" for j in range(mask_shape[0])])\n",
    "        \n",
    "        ax.set_title(f\"预测的Local Mask (样本 #{i})\")\n",
    "    \n",
    "    plt.tight_layout()\n",
    "    plt.show()"
   ]
  },
  {
   "cell_type": "markdown",
   "metadata": {},
   "source": [
    "## 7. 保存分析结果"
   ]
  },
  {
   "cell_type": "code",
   "execution_count": null,
   "metadata": {},
   "outputs": [],
   "source": [
    "# 创建结果目录\n",
    "results_dir = \"local_mask_analysis_results\"\n",
    "os.makedirs(results_dir, exist_ok=True)\n",
    "\n",
    "# 如果有预测的local mask，将其保存为CSV文件\n",
    "if pred_local_mask is not None:\n",
    "    for i in range(min(10, batch_size)):  # 保存前10个样本\n",
    "        # 转换为DataFrame\n",
    "        df = pd.DataFrame(pred_local_mask[i].cpu().numpy())\n",
    "        df.columns = [f\"Obj {j}\" for j in range(df.shape[1])]\n",
    "        df.index = [f\"Obj {j}\" for j in range(df.shape[0])]\n",
    "        \n",
    "        # 保存为CSV\n",
    "        df.to_csv(os.path.join(results_dir, f\"local_mask_sample_{i}.csv\"))\n",
    "    \n",
    "    print(f\"已保存local mask预测结果到 {results_dir} 目录\")"
   ]
  },
  {
   "cell_type": "markdown",
   "metadata": {},
   "source": [
    "## 8. 总结和解释"
   ]
  },
  {
   "cell_type": "markdown",
   "metadata": {},
   "source": [
    "### 分析结论\n",
    "\n",
    "我们通过以下步骤验证了推理模型预测的local mask:\n",
    "\n",
    "1. 加载了保存的模型权重和参数\n",
    "2. 重建了与训练时相同的环境\n",
    "3. 收集了新的样本数据\n",
    "4. 使用推理模型生成了local mask预测\n",
    "5. 可视化并分析了预测结果\n",
    "\n",
    "**Local Mask 解释**:\n",
    "- Local mask矩阵中的每个元素表示行对象对列对象的影响程度\n",
    "- 值接近1表示存在强影响关系，值接近0表示几乎没有影响\n",
    "- 通过观察local mask，我们可以了解对象之间的因果关系结构\n",
    "\n",
    "这些分析结果可以帮助我们理解模型是如何捕获环境中的因果关系，以及这些关系的准确性程度。"
   ]
  }
 ],
 "metadata": {
  "kernelspec": {
   "display_name": "fcdl",
   "language": "python",
   "name": "python3"
  },
  "language_info": {
   "codemirror_mode": {
    "name": "ipython",
    "version": 3
   },
   "file_extension": ".py",
   "mimetype": "text/x-python",
   "name": "python",
   "nbconvert_exporter": "python",
   "pygments_lexer": "ipython3",
   "version": "3.8.20"
  }
 },
 "nbformat": 4,
 "nbformat_minor": 2
}
